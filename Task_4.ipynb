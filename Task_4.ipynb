{
 "cells": [
  {
   "cell_type": "code",
   "execution_count": 1,
   "metadata": {},
   "outputs": [],
   "source": [
    "import pandas as pd\n",
    "import numpy as np\n",
    "import matplotlib.pyplot as plt\n",
    "%matplotlib inline\n",
    "import datetime"
   ]
  },
  {
   "cell_type": "code",
   "execution_count": 2,
   "metadata": {},
   "outputs": [
    {
     "data": {
      "text/html": [
       "<div>\n",
       "<style scoped>\n",
       "    .dataframe tbody tr th:only-of-type {\n",
       "        vertical-align: middle;\n",
       "    }\n",
       "\n",
       "    .dataframe tbody tr th {\n",
       "        vertical-align: top;\n",
       "    }\n",
       "\n",
       "    .dataframe thead th {\n",
       "        text-align: right;\n",
       "    }\n",
       "</style>\n",
       "<table border=\"1\" class=\"dataframe\">\n",
       "  <thead>\n",
       "    <tr style=\"text-align: right;\">\n",
       "      <th></th>\n",
       "      <th>PERIOD</th>\n",
       "      <th>cl_id</th>\n",
       "      <th>MCC</th>\n",
       "      <th>channel_type</th>\n",
       "      <th>currency</th>\n",
       "      <th>TRDATETIME</th>\n",
       "      <th>amount</th>\n",
       "      <th>trx_category</th>\n",
       "      <th>target_flag</th>\n",
       "      <th>target_sum</th>\n",
       "    </tr>\n",
       "  </thead>\n",
       "  <tbody>\n",
       "    <tr>\n",
       "      <th>0</th>\n",
       "      <td>01/10/2017</td>\n",
       "      <td>0</td>\n",
       "      <td>5200</td>\n",
       "      <td>NaN</td>\n",
       "      <td>810</td>\n",
       "      <td>21OCT17:00:00:00</td>\n",
       "      <td>5023.0</td>\n",
       "      <td>POS</td>\n",
       "      <td>0</td>\n",
       "      <td>0.0</td>\n",
       "    </tr>\n",
       "    <tr>\n",
       "      <th>1</th>\n",
       "      <td>01/10/2017</td>\n",
       "      <td>0</td>\n",
       "      <td>6011</td>\n",
       "      <td>NaN</td>\n",
       "      <td>810</td>\n",
       "      <td>12OCT17:12:24:07</td>\n",
       "      <td>20000.0</td>\n",
       "      <td>DEPOSIT</td>\n",
       "      <td>0</td>\n",
       "      <td>0.0</td>\n",
       "    </tr>\n",
       "    <tr>\n",
       "      <th>2</th>\n",
       "      <td>01/12/2017</td>\n",
       "      <td>0</td>\n",
       "      <td>5921</td>\n",
       "      <td>NaN</td>\n",
       "      <td>810</td>\n",
       "      <td>05DEC17:00:00:00</td>\n",
       "      <td>767.0</td>\n",
       "      <td>POS</td>\n",
       "      <td>0</td>\n",
       "      <td>0.0</td>\n",
       "    </tr>\n",
       "    <tr>\n",
       "      <th>3</th>\n",
       "      <td>01/10/2017</td>\n",
       "      <td>0</td>\n",
       "      <td>5411</td>\n",
       "      <td>NaN</td>\n",
       "      <td>810</td>\n",
       "      <td>21OCT17:00:00:00</td>\n",
       "      <td>2031.0</td>\n",
       "      <td>POS</td>\n",
       "      <td>0</td>\n",
       "      <td>0.0</td>\n",
       "    </tr>\n",
       "    <tr>\n",
       "      <th>4</th>\n",
       "      <td>01/10/2017</td>\n",
       "      <td>0</td>\n",
       "      <td>6012</td>\n",
       "      <td>NaN</td>\n",
       "      <td>810</td>\n",
       "      <td>24OCT17:13:14:24</td>\n",
       "      <td>36562.0</td>\n",
       "      <td>C2C_OUT</td>\n",
       "      <td>0</td>\n",
       "      <td>0.0</td>\n",
       "    </tr>\n",
       "  </tbody>\n",
       "</table>\n",
       "</div>"
      ],
      "text/plain": [
       "       PERIOD  cl_id   MCC channel_type  currency        TRDATETIME   amount  \\\n",
       "0  01/10/2017      0  5200          NaN       810  21OCT17:00:00:00   5023.0   \n",
       "1  01/10/2017      0  6011          NaN       810  12OCT17:12:24:07  20000.0   \n",
       "2  01/12/2017      0  5921          NaN       810  05DEC17:00:00:00    767.0   \n",
       "3  01/10/2017      0  5411          NaN       810  21OCT17:00:00:00   2031.0   \n",
       "4  01/10/2017      0  6012          NaN       810  24OCT17:13:14:24  36562.0   \n",
       "\n",
       "  trx_category  target_flag  target_sum  \n",
       "0          POS            0         0.0  \n",
       "1      DEPOSIT            0         0.0  \n",
       "2          POS            0         0.0  \n",
       "3          POS            0         0.0  \n",
       "4      C2C_OUT            0         0.0  "
      ]
     },
     "execution_count": 2,
     "metadata": {},
     "output_type": "execute_result"
    }
   ],
   "source": [
    "raw_df = pd.read_csv('rosbank_train.csv')\n",
    "raw_df.head(5)\n"
   ]
  },
  {
   "cell_type": "code",
   "execution_count": 3,
   "metadata": {},
   "outputs": [
    {
     "name": "stdout",
     "output_type": "stream",
     "text": [
      "Total transactions in train dataset:  393318\n",
      "Total transactions in test dataset:  97195\n"
     ]
    }
   ],
   "source": [
    "cl_ids_test = np.random.choice(raw_df.cl_id.unique(), size=1000, replace=False)\n",
    "cl_ids_test_set = set(cl_ids_test)\n",
    "\n",
    "# create transactions dataset for train\n",
    "transactions_train = raw_df[~raw_df.cl_id.isin(cl_ids_test)].copy()\n",
    "print(\"Total transactions in train dataset: \", len(transactions_train))\n",
    "# create transactions dataset for test\n",
    "transactions_test = raw_df[raw_df.cl_id.isin(cl_ids_test)].copy()\n",
    "print(\"Total transactions in test dataset: \", len(transactions_test))"
   ]
  },
  {
   "cell_type": "code",
   "execution_count": 4,
   "metadata": {},
   "outputs": [],
   "source": [
    "def get_aggregated_df(df, agg_type, col_to_groupby):\n",
    "    agg_df = df[['cl_id', col_to_groupby, 'amount']].groupby(['cl_id', col_to_groupby]).agg([agg_type])\n",
    "    agg_df = agg_df.unstack(fill_value=0)\n",
    "    agg_df.columns = agg_df.columns.get_level_values(2)\n",
    "\n",
    "    old_name = agg_df.columns.name\n",
    "    old_cols = agg_df.columns\n",
    "    new_cols = [old_name + '_' + agg_type + '_' + str(old_col) for old_col in old_cols]\n",
    "    agg_df.rename(\n",
    "        columns={old_col: new_col for old_col, new_col in zip(old_cols, new_cols)}, inplace=True\n",
    "    )\n",
    "    return agg_df"
   ]
  },
  {
   "cell_type": "code",
   "execution_count": 5,
   "metadata": {},
   "outputs": [],
   "source": [
    "df_train_mcc = pd.merge(\n",
    "    get_aggregated_df(transactions_train, agg_type='mean', col_to_groupby='MCC'),\n",
    "    get_aggregated_df(transactions_train, agg_type='sum', col_to_groupby='MCC'),\n",
    "    left_index=True,\n",
    "    right_index=True,\n",
    ")\n",
    "\n",
    "df_train_trx_category = pd.merge(\n",
    "    get_aggregated_df(transactions_train, agg_type='mean', col_to_groupby='trx_category'),\n",
    "    get_aggregated_df(transactions_train, agg_type='sum', col_to_groupby='trx_category'),\n",
    "    left_index=True,\n",
    "    right_index=True,\n",
    ")\n",
    "\n",
    "df_train = pd.merge(\n",
    "    df_train_mcc,\n",
    "    df_train_trx_category,\n",
    "    left_index=True,\n",
    "    right_index=True,\n",
    ")\n"
   ]
  },
  {
   "cell_type": "code",
   "execution_count": 6,
   "metadata": {},
   "outputs": [
    {
     "data": {
      "text/html": [
       "<div>\n",
       "<style scoped>\n",
       "    .dataframe tbody tr th:only-of-type {\n",
       "        vertical-align: middle;\n",
       "    }\n",
       "\n",
       "    .dataframe tbody tr th {\n",
       "        vertical-align: top;\n",
       "    }\n",
       "\n",
       "    .dataframe thead th {\n",
       "        text-align: right;\n",
       "    }\n",
       "</style>\n",
       "<table border=\"1\" class=\"dataframe\">\n",
       "  <thead>\n",
       "    <tr style=\"text-align: right;\">\n",
       "      <th></th>\n",
       "      <th>MCC_mean_742</th>\n",
       "      <th>MCC_mean_763</th>\n",
       "      <th>MCC_mean_780</th>\n",
       "      <th>MCC_mean_1520</th>\n",
       "      <th>MCC_mean_1711</th>\n",
       "      <th>MCC_mean_1731</th>\n",
       "      <th>MCC_mean_1750</th>\n",
       "      <th>MCC_mean_1799</th>\n",
       "      <th>MCC_mean_2741</th>\n",
       "      <th>MCC_mean_2842</th>\n",
       "      <th>...</th>\n",
       "      <th>trx_category_sum_BACK_TRX</th>\n",
       "      <th>trx_category_sum_C2C_IN</th>\n",
       "      <th>trx_category_sum_C2C_OUT</th>\n",
       "      <th>trx_category_sum_CASH_ADV</th>\n",
       "      <th>trx_category_sum_CAT</th>\n",
       "      <th>trx_category_sum_DEPOSIT</th>\n",
       "      <th>trx_category_sum_POS</th>\n",
       "      <th>trx_category_sum_WD_ATM_OTHER</th>\n",
       "      <th>trx_category_sum_WD_ATM_PARTNER</th>\n",
       "      <th>trx_category_sum_WD_ATM_ROS</th>\n",
       "    </tr>\n",
       "    <tr>\n",
       "      <th>cl_id</th>\n",
       "      <th></th>\n",
       "      <th></th>\n",
       "      <th></th>\n",
       "      <th></th>\n",
       "      <th></th>\n",
       "      <th></th>\n",
       "      <th></th>\n",
       "      <th></th>\n",
       "      <th></th>\n",
       "      <th></th>\n",
       "      <th></th>\n",
       "      <th></th>\n",
       "      <th></th>\n",
       "      <th></th>\n",
       "      <th></th>\n",
       "      <th></th>\n",
       "      <th></th>\n",
       "      <th></th>\n",
       "      <th></th>\n",
       "      <th></th>\n",
       "      <th></th>\n",
       "    </tr>\n",
       "  </thead>\n",
       "  <tbody>\n",
       "    <tr>\n",
       "      <th>1</th>\n",
       "      <td>0.0</td>\n",
       "      <td>0.0</td>\n",
       "      <td>0.0</td>\n",
       "      <td>0.0</td>\n",
       "      <td>0.0</td>\n",
       "      <td>0.0</td>\n",
       "      <td>0.0</td>\n",
       "      <td>0.0</td>\n",
       "      <td>0.0</td>\n",
       "      <td>0.0</td>\n",
       "      <td>...</td>\n",
       "      <td>0.0</td>\n",
       "      <td>0.0</td>\n",
       "      <td>0.00</td>\n",
       "      <td>0.0</td>\n",
       "      <td>0.00</td>\n",
       "      <td>95000.0</td>\n",
       "      <td>122578.04</td>\n",
       "      <td>0.0</td>\n",
       "      <td>0.0</td>\n",
       "      <td>50000.0</td>\n",
       "    </tr>\n",
       "    <tr>\n",
       "      <th>5</th>\n",
       "      <td>0.0</td>\n",
       "      <td>0.0</td>\n",
       "      <td>0.0</td>\n",
       "      <td>0.0</td>\n",
       "      <td>0.0</td>\n",
       "      <td>0.0</td>\n",
       "      <td>0.0</td>\n",
       "      <td>0.0</td>\n",
       "      <td>0.0</td>\n",
       "      <td>0.0</td>\n",
       "      <td>...</td>\n",
       "      <td>13990.0</td>\n",
       "      <td>0.0</td>\n",
       "      <td>33878.38</td>\n",
       "      <td>0.0</td>\n",
       "      <td>0.00</td>\n",
       "      <td>130000.0</td>\n",
       "      <td>290500.75</td>\n",
       "      <td>5500.0</td>\n",
       "      <td>6000.0</td>\n",
       "      <td>66500.0</td>\n",
       "    </tr>\n",
       "    <tr>\n",
       "      <th>9</th>\n",
       "      <td>0.0</td>\n",
       "      <td>0.0</td>\n",
       "      <td>0.0</td>\n",
       "      <td>0.0</td>\n",
       "      <td>0.0</td>\n",
       "      <td>0.0</td>\n",
       "      <td>0.0</td>\n",
       "      <td>0.0</td>\n",
       "      <td>0.0</td>\n",
       "      <td>0.0</td>\n",
       "      <td>...</td>\n",
       "      <td>0.0</td>\n",
       "      <td>296950.0</td>\n",
       "      <td>0.00</td>\n",
       "      <td>0.0</td>\n",
       "      <td>0.00</td>\n",
       "      <td>5000.0</td>\n",
       "      <td>12365.09</td>\n",
       "      <td>0.0</td>\n",
       "      <td>100000.0</td>\n",
       "      <td>435000.0</td>\n",
       "    </tr>\n",
       "    <tr>\n",
       "      <th>10</th>\n",
       "      <td>0.0</td>\n",
       "      <td>0.0</td>\n",
       "      <td>0.0</td>\n",
       "      <td>0.0</td>\n",
       "      <td>0.0</td>\n",
       "      <td>0.0</td>\n",
       "      <td>0.0</td>\n",
       "      <td>0.0</td>\n",
       "      <td>0.0</td>\n",
       "      <td>0.0</td>\n",
       "      <td>...</td>\n",
       "      <td>0.0</td>\n",
       "      <td>10000.0</td>\n",
       "      <td>21692.90</td>\n",
       "      <td>0.0</td>\n",
       "      <td>37694.98</td>\n",
       "      <td>426300.0</td>\n",
       "      <td>200956.11</td>\n",
       "      <td>0.0</td>\n",
       "      <td>5400.0</td>\n",
       "      <td>422300.0</td>\n",
       "    </tr>\n",
       "    <tr>\n",
       "      <th>11</th>\n",
       "      <td>0.0</td>\n",
       "      <td>0.0</td>\n",
       "      <td>0.0</td>\n",
       "      <td>0.0</td>\n",
       "      <td>0.0</td>\n",
       "      <td>0.0</td>\n",
       "      <td>0.0</td>\n",
       "      <td>0.0</td>\n",
       "      <td>0.0</td>\n",
       "      <td>0.0</td>\n",
       "      <td>...</td>\n",
       "      <td>0.0</td>\n",
       "      <td>0.0</td>\n",
       "      <td>0.00</td>\n",
       "      <td>0.0</td>\n",
       "      <td>0.00</td>\n",
       "      <td>182000.0</td>\n",
       "      <td>245747.14</td>\n",
       "      <td>0.0</td>\n",
       "      <td>0.0</td>\n",
       "      <td>0.0</td>\n",
       "    </tr>\n",
       "  </tbody>\n",
       "</table>\n",
       "<p>5 rows × 674 columns</p>\n",
       "</div>"
      ],
      "text/plain": [
       "       MCC_mean_742  MCC_mean_763  MCC_mean_780  MCC_mean_1520  MCC_mean_1711  \\\n",
       "cl_id                                                                           \n",
       "1               0.0           0.0           0.0            0.0            0.0   \n",
       "5               0.0           0.0           0.0            0.0            0.0   \n",
       "9               0.0           0.0           0.0            0.0            0.0   \n",
       "10              0.0           0.0           0.0            0.0            0.0   \n",
       "11              0.0           0.0           0.0            0.0            0.0   \n",
       "\n",
       "       MCC_mean_1731  MCC_mean_1750  MCC_mean_1799  MCC_mean_2741  \\\n",
       "cl_id                                                               \n",
       "1                0.0            0.0            0.0            0.0   \n",
       "5                0.0            0.0            0.0            0.0   \n",
       "9                0.0            0.0            0.0            0.0   \n",
       "10               0.0            0.0            0.0            0.0   \n",
       "11               0.0            0.0            0.0            0.0   \n",
       "\n",
       "       MCC_mean_2842             ...               trx_category_sum_BACK_TRX  \\\n",
       "cl_id                            ...                                           \n",
       "1                0.0             ...                                     0.0   \n",
       "5                0.0             ...                                 13990.0   \n",
       "9                0.0             ...                                     0.0   \n",
       "10               0.0             ...                                     0.0   \n",
       "11               0.0             ...                                     0.0   \n",
       "\n",
       "       trx_category_sum_C2C_IN  trx_category_sum_C2C_OUT  \\\n",
       "cl_id                                                      \n",
       "1                          0.0                      0.00   \n",
       "5                          0.0                  33878.38   \n",
       "9                     296950.0                      0.00   \n",
       "10                     10000.0                  21692.90   \n",
       "11                         0.0                      0.00   \n",
       "\n",
       "       trx_category_sum_CASH_ADV  trx_category_sum_CAT  \\\n",
       "cl_id                                                    \n",
       "1                            0.0                  0.00   \n",
       "5                            0.0                  0.00   \n",
       "9                            0.0                  0.00   \n",
       "10                           0.0              37694.98   \n",
       "11                           0.0                  0.00   \n",
       "\n",
       "       trx_category_sum_DEPOSIT  trx_category_sum_POS  \\\n",
       "cl_id                                                   \n",
       "1                       95000.0             122578.04   \n",
       "5                      130000.0             290500.75   \n",
       "9                        5000.0              12365.09   \n",
       "10                     426300.0             200956.11   \n",
       "11                     182000.0             245747.14   \n",
       "\n",
       "       trx_category_sum_WD_ATM_OTHER  trx_category_sum_WD_ATM_PARTNER  \\\n",
       "cl_id                                                                   \n",
       "1                                0.0                              0.0   \n",
       "5                             5500.0                           6000.0   \n",
       "9                                0.0                         100000.0   \n",
       "10                               0.0                           5400.0   \n",
       "11                               0.0                              0.0   \n",
       "\n",
       "       trx_category_sum_WD_ATM_ROS  \n",
       "cl_id                               \n",
       "1                          50000.0  \n",
       "5                          66500.0  \n",
       "9                         435000.0  \n",
       "10                        422300.0  \n",
       "11                             0.0  \n",
       "\n",
       "[5 rows x 674 columns]"
      ]
     },
     "execution_count": 6,
     "metadata": {},
     "output_type": "execute_result"
    }
   ],
   "source": [
    "df_train.head()"
   ]
  },
  {
   "cell_type": "code",
   "execution_count": 7,
   "metadata": {},
   "outputs": [],
   "source": [
    "df_targets = raw_df[['cl_id', 'target_flag']].drop_duplicates().copy()\n",
    "df_targets.index = df_targets['cl_id']\n",
    "df_targets = df_targets.drop('cl_id', axis=1)\n",
    "df_targets.head()\n",
    "\n",
    "\n",
    "df_train = pd.merge(\n",
    "    df_train,\n",
    "    df_targets,\n",
    "    left_index=True,\n",
    "    right_index=True,\n",
    "    how='inner'\n",
    ")"
   ]
  },
  {
   "cell_type": "code",
   "execution_count": 8,
   "metadata": {},
   "outputs": [],
   "source": [
    "df_test_mcc = pd.merge(\n",
    "    get_aggregated_df(transactions_test, agg_type='mean', col_to_groupby='MCC'),\n",
    "    get_aggregated_df(transactions_test, agg_type='sum', col_to_groupby='MCC'),\n",
    "    left_index=True,\n",
    "    right_index=True,\n",
    ")\n",
    "\n",
    "df_test_trx_category = pd.merge(\n",
    "    get_aggregated_df(transactions_test, agg_type='mean', col_to_groupby='trx_category'),\n",
    "    get_aggregated_df(transactions_test, agg_type='sum', col_to_groupby='trx_category'),\n",
    "    left_index=True,\n",
    "    right_index=True,\n",
    ")\n",
    "\n",
    "df_test = pd.merge(\n",
    "    df_test_mcc,\n",
    "    df_test_trx_category,\n",
    "    left_index=True,\n",
    "    right_index=True,\n",
    ")"
   ]
  },
  {
   "cell_type": "code",
   "execution_count": 9,
   "metadata": {},
   "outputs": [],
   "source": [
    "df_test = pd.merge(\n",
    "    df_test,\n",
    "    df_targets,\n",
    "    left_index=True,\n",
    "    right_index=True,\n",
    "    how='inner'\n",
    ")"
   ]
  },
  {
   "cell_type": "code",
   "execution_count": 10,
   "metadata": {},
   "outputs": [],
   "source": [
    "X_test = df_test.drop(['target_flag'], axis=1)\n",
    "y_test = df_test['target_flag']\n",
    "\n",
    "X_train = df_train.drop(['target_flag'], axis=1)\n",
    "y_train = df_train['target_flag']"
   ]
  },
  {
   "cell_type": "code",
   "execution_count": 11,
   "metadata": {},
   "outputs": [],
   "source": [
    "from sklearn.ensemble import RandomForestClassifier\n",
    "from sklearn.metrics import roc_auc_score, roc_curve"
   ]
  },
  {
   "cell_type": "code",
   "execution_count": 12,
   "metadata": {},
   "outputs": [],
   "source": [
    "cols = list(filter(lambda x: x in X_test.columns, X_train.columns))"
   ]
  },
  {
   "cell_type": "code",
   "execution_count": 16,
   "metadata": {},
   "outputs": [],
   "source": [
    "clf = RandomForestClassifier(n_estimators=300, max_depth=30, random_state=0).fit(X_train[cols], y_train)"
   ]
  },
  {
   "cell_type": "code",
   "execution_count": 17,
   "metadata": {},
   "outputs": [
    {
     "name": "stdout",
     "output_type": "stream",
     "text": [
      "Train:  1.0\n"
     ]
    }
   ],
   "source": [
    "y_train_predict = clf.predict_proba(X_train[cols])[:, 1]\n",
    "\n",
    "\n",
    "roc_auc_train = np.round(roc_auc_score(y_train, y_train_predict), 2)\n",
    "print(\"Train: \", roc_auc_train)"
   ]
  },
  {
   "cell_type": "code",
   "execution_count": 18,
   "metadata": {},
   "outputs": [
    {
     "name": "stdout",
     "output_type": "stream",
     "text": [
      "Test:  0.81\n"
     ]
    }
   ],
   "source": [
    "y_test_predict = clf.predict_proba(X_test[cols])[:, 1]\n",
    "\n",
    "\n",
    "roc_auc_test = np.round(roc_auc_score(y_test, y_test_predict), 2)\n",
    "print(\"Test: \", roc_auc_test)"
   ]
  },
  {
   "cell_type": "code",
   "execution_count": null,
   "metadata": {},
   "outputs": [],
   "source": []
  },
  {
   "cell_type": "code",
   "execution_count": 34,
   "metadata": {},
   "outputs": [
    {
     "data": {
      "image/png": "[encoded data removed]",
      "text/plain": [
       "<Figure size 432x288 with 1 Axes>"
      ]
     },
     "metadata": {},
     "output_type": "display_data"
    }
   ],
   "source": [
    "features = X_train.columns\n",
    "importances = clf.feature_importances_\n",
    "\n",
    "indices = np.argsort(importances)\n",
    "\n",
    "plt.title('Feature Importances')\n",
    "plt.barh(range(len(indices)), importances[indices], color='b', align='center')\n",
    "plt.yticks(range(len(indices)), [features[i] for i in indices])\n",
    "plt.xlabel('Relative Importance')\n",
    "plt.show()"
   ]
  },
  {
   "cell_type": "code",
   "execution_count": 52,
   "metadata": {},
   "outputs": [],
   "source": [
    "for i in indices:\n",
    "    if features[i] in df_test:\n",
    "        X_test = df_test.drop(features[i], axis=1)\n",
    "    if features[i] in df_train:\n",
    "        X_train = df_train.drop(features[i], axis=1)\n",
    "\n",
    "y_test = df_test['target_flag']\n",
    "y_train = df_train['target_flag']"
   ]
  },
  {
   "cell_type": "code",
   "execution_count": 53,
   "metadata": {},
   "outputs": [],
   "source": [
    "cols = list(filter(lambda x: x in X_test.columns, X_train.columns))"
   ]
  },
  {
   "cell_type": "code",
   "execution_count": 54,
   "metadata": {},
   "outputs": [],
   "source": [
    "clf = RandomForestClassifier(n_estimators=300, max_depth=30, random_state=0).fit(X_train[cols], y_train)"
   ]
  },
  {
   "cell_type": "code",
   "execution_count": 55,
   "metadata": {},
   "outputs": [
    {
     "name": "stdout",
     "output_type": "stream",
     "text": [
      "Train:  1.0\n"
     ]
    }
   ],
   "source": [
    "y_train_predict = clf.predict_proba(X_train[cols])[:, 1]\n",
    "\n",
    "\n",
    "roc_auc_train = np.round(roc_auc_score(y_train, y_train_predict), 2)\n",
    "print(\"Train: \", roc_auc_train)"
   ]
  },
  {
   "cell_type": "code",
   "execution_count": 56,
   "metadata": {},
   "outputs": [
    {
     "name": "stdout",
     "output_type": "stream",
     "text": [
      "Test:  1.0\n"
     ]
    }
   ],
   "source": [
    "y_test_predict = clf.predict_proba(X_test[cols])[:, 1]\n",
    "\n",
    "\n",
    "roc_auc_test = np.round(roc_auc_score(y_test, y_test_predict), 2)\n",
    "print(\"Test: \", roc_auc_test)"
   ]
  },
  {
   "cell_type": "code",
   "execution_count": null,
   "metadata": {},
   "outputs": [],
   "source": []
  }
 ],
 "metadata": {
  "kernelspec": {
   "display_name": "Python 3",
   "language": "python",
   "name": "python3"
  },
  "language_info": {
   "codemirror_mode": {
    "name": "ipython",
    "version": 3
   },
   "file_extension": ".py",
   "mimetype": "text/x-python",
   "name": "python",
   "nbconvert_exporter": "python",
   "pygments_lexer": "ipython3",
   "version": "3.6.5"
  }
 },
 "nbformat": 4,
 "nbformat_minor": 2
}
